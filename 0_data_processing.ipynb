{
 "cells": [
  {
   "cell_type": "markdown",
   "id": "54d823f7-db2e-47bf-a728-713275317fd4",
   "metadata": {},
   "source": [
    "## Load Data from S3:\n",
    "\n",
    "### To load data from Amazon S3 to an Amazon SageMaker notebook, follow these steps:\n",
    "\n",
    "- Set Up AWS Credentials: Ensure your SageMaker notebook instance has the necessary IAM role permissions to access the S3 bucket.\n",
    "- Install Required Libraries: Ensure boto3 and pandas are installed.\n",
    "- Initialize the S3 Client: Use boto3 to interact with S3.\n",
    "- Download Data from S3: Use the download_file method to download the data."
   ]
  },
  {
   "cell_type": "code",
   "execution_count": null,
   "id": "85f7c493-eb72-4fb4-a660-c7eb49e86f64",
   "metadata": {},
   "outputs": [],
   "source": [
    "# Install required libraries if not already installed\n",
    "!pip install boto3 pandas --quiet"
   ]
  },
  {
   "cell_type": "code",
   "execution_count": null,
   "id": "d3ed282c-5499-49b2-a718-03ac06e3513b",
   "metadata": {},
   "outputs": [],
   "source": [
    "# Import libraries\n",
    "import boto3\n",
    "\n",
    "# Initialize the S3 client\n",
    "s3 = boto3.client('s3')\n",
    "\n",
    "# S3 bucket name\n",
    "bucket_name = \"<BUCKET_NAME>\"\n",
    "\n",
    "# File keys and local file names\n",
    "files = [\n",
    "    {'key': 'dataset-jsonl/dev1.jsonl', 'local_file': 'dev1.jsonl'},\n",
    "    {'key': 'dataset-jsonl/dev2.jsonl', 'local_file': 'dev2.jsonl'}\n",
    "]\n",
    "\n",
    "# Download files from S3\n",
    "for file in files:\n",
    "    s3.download_file(bucket_name, file['key'], file['local_file'])\n",
    "    print(f\"Downloaded {file['key']} to {file['local_file']}\")"
   ]
  },
  {
   "cell_type": "markdown",
   "id": "1d853c8e-ed2c-469d-89e0-e39e9968bba9",
   "metadata": {},
   "source": [
    "### Converting JSONL Format for Conversation Data\n",
    "This notebook transforms JSONL files from a simple prompt-completion format to a structured conversation format.\n",
    "\n",
    "#### Input Format\n",
    "```json\n",
    "{\n",
    "    \"prompt\": \"value of prompt key\",\n",
    "    \"completion\": \"value of completion key\"\n",
    "}\n",
    "Output Format\n",
    "\n",
    "{\n",
    "    \"conversationTurns\": [{\n",
    "        \"referenceResponses\": [{\n",
    "            \"content\": [{\n",
    "                \"text\": \"value from completion key\"\n",
    "            }]\n",
    "        }],\n",
    "        \"prompt\": {\n",
    "            \"content\": [{\n",
    "                \"text\": \"value from prompt key\"\n",
    "            }]\n",
    "        }\n",
    "    }]\n",
    "}\n",
    "Let's implement the transformation:"
   ]
  },
  {
   "cell_type": "code",
   "execution_count": null,
   "id": "1ef15385-a5ac-4636-bd62-0ffeabd27150",
   "metadata": {},
   "outputs": [],
   "source": [
    "import json\n",
    "import random\n",
    "\n",
    "# Function to transform a single record\n",
    "def transform_record(record):\n",
    "    return {\n",
    "        \"conversationTurns\": [\n",
    "            {\n",
    "                \"referenceResponses\": [\n",
    "                    {\n",
    "                        \"content\": [\n",
    "                            {\n",
    "                                \"text\": record[\"completion\"]\n",
    "                            }\n",
    "                        ]\n",
    "                    }\n",
    "                ],\n",
    "                \"prompt\": {\n",
    "                    \"content\": [\n",
    "                        {\n",
    "                            \"text\": \"\"\"You're given a radiology report findings to generate a concise radiology impression from it.\n",
    "\n",
    "A Radiology Impression is the radiologist's final concise interpretation and conclusion of medical imaging findings, typically appearing at the end of a radiology report.\n",
    "\\n Follow these guidelines when writing the impression:\n",
    "\\n- Use clear, understandable language avoiding obscure terms.\n",
    "\\n- Number each impression.\n",
    "\\n- Order impressions by importance.\n",
    "\\n- Keep impressions concise and shorter than the findings section.\n",
    "\\n- Write for the intended reader's understanding.\\n\n",
    "Findings: \\n\"\"\" + record[\"prompt\"]\n",
    "                        }\n",
    "                    ]\n",
    "                }\n",
    "            }\n",
    "        ]\n",
    "    }\n",
    "\n",
    "# Read from input file and write to output file\n",
    "def convert_file(input_file_path, output_file_path, sample_size=1000):\n",
    "    # First, read all records into a list\n",
    "    records = []\n",
    "    with open(input_file_path, 'r', encoding='utf-8') as input_file:\n",
    "        for line in input_file:\n",
    "            records.append(json.loads(line.strip()))\n",
    "    \n",
    "    # Randomly sample 1000 records\n",
    "    random.seed(42)  # Set the seed first for reproducibility\n",
    "    sampled_records = random.sample(records, sample_size)\n",
    "    \n",
    "    # Write the sampled and transformed records to the output file\n",
    "    with open(output_file_path, 'w', encoding='utf-8') as output_file:\n",
    "        for record in sampled_records:\n",
    "            transformed_record = transform_record(record)\n",
    "            output_file.write(json.dumps(transformed_record) + '\\n')"
   ]
  },
  {
   "cell_type": "code",
   "execution_count": null,
   "id": "db7db5a8-a54d-47a6-a898-629dbed7a661",
   "metadata": {},
   "outputs": [],
   "source": [
    "# Usage\n",
    "input_file_path = '<INPUT_FILE_NAME>.jsonl'  # Replace with your input file path\n",
    "output_file_path = '<OUTPUT_FILE_NAME>.jsonl'  # Replace with your desired output file path\n",
    "convert_file(input_file_path, output_file_path)"
   ]
  },
  {
   "cell_type": "markdown",
   "id": "495c2573-4840-4347-b621-ecc0d371164f",
   "metadata": {},
   "source": [
    "#### Load Transformed file back to S3"
   ]
  },
  {
   "cell_type": "code",
   "execution_count": null,
   "id": "0bcb033b-d1ce-46a8-be52-8d55e6094253",
   "metadata": {},
   "outputs": [],
   "source": [
    "# File paths and S3 keys for the transformed files\n",
    "transformed_files = [\n",
    "    {'local_file': '<OUTPUT_FILE_NAME>.jsonl', 'key': '<FOLDER_NAME>/<OUTPUT_FILE_NAME>.jsonl'},\n",
    "    {'local_file': '<OUTPUT_FILE_NAME>.jsonl', 'key': '<FOLDER_NAME>/<OUTPUT_FILE_NAME>.jsonl'}\n",
    "]\n",
    "\n",
    "# Upload files to S3\n",
    "for file in transformed_files:\n",
    "    s3.upload_file(file['local_file'], bucket_name, file['key'])\n",
    "    print(f\"Uploaded {file['local_file']} to s3://{bucket_name}/{file['key']}\")"
   ]
  },
  {
   "cell_type": "code",
   "execution_count": null,
   "id": "e443f357-0cd1-4d98-8f8c-2d7ed08df236",
   "metadata": {},
   "outputs": [],
   "source": []
  }
 ],
 "metadata": {
  "kernelspec": {
   "display_name": "Python 3 (ipykernel)",
   "language": "python",
   "name": "python3"
  },
  "language_info": {
   "codemirror_mode": {
    "name": "ipython",
    "version": 3
   },
   "file_extension": ".py",
   "mimetype": "text/x-python",
   "name": "python",
   "nbconvert_exporter": "python",
   "pygments_lexer": "ipython3",
   "version": "3.11.11"
  }
 },
 "nbformat": 4,
 "nbformat_minor": 5
}
